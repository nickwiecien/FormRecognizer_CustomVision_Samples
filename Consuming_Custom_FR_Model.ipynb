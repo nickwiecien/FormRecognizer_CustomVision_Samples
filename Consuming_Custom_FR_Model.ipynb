{
 "cells": [
  {
   "cell_type": "code",
   "execution_count": null,
   "metadata": {},
   "outputs": [],
   "source": [
    "os.environ['FR_Endpoint'] = \"<YOUR_FORM_RECOGNIZER_ENDPOINT>\"\n",
    "os.environ['FR_Key'] = '<YOUR_FORM_RECOGNIZER_KEY>'\n",
    "os.environ['FR_Model_ID'] = '<YOUR_CUSTOM_FORM_RECOGNIZER_MODEL_ID>'\n",
    "os.environ['Form_Uri'] = '<YOUR_FORM_URI>'"
   ]
  },
  {
   "cell_type": "code",
   "execution_count": 23,
   "metadata": {},
   "outputs": [],
   "source": [
    "import os\n",
    "import json\n",
    "import numpy as np\n",
    "import pandas as pd\n",
    "from azure.core.exceptions import ResourceNotFoundError\n",
    "from azure.ai.formrecognizer import FormRecognizerClient, FormTrainingClient\n",
    "from azure.ai.formrecognizer import FormTrainingClient\n",
    "from azure.core.credentials import AzureKeyCredential\n",
    "\n",
    "#Get form recognizer endpoint/key, custom model ID, and form URI (blob uri w/ SAS Key)\n",
    "endpoint = os.environ.get('FR_Endpoint')\n",
    "key = os.environ.get('FR_Key')\n",
    "model_id = os.environ.get('FR_Model_ID')\n",
    "formUri = os.environ.get('Form_Uri')\n",
    "\n",
    "#Create Form Recognizer Client\n",
    "form_recognizer_client = FormRecognizerClient(endpoint, AzureKeyCredential(key))"
   ]
  },
  {
   "cell_type": "code",
   "execution_count": 24,
   "metadata": {},
   "outputs": [
    {
     "name": "stdout",
     "output_type": "stream",
     "text": [
      "Form type: form-782ea372-0f29-4948-a20f-b57631a105f2\n",
      "\n",
      "Low Temp (F) - 35OF\n",
      "Ref - 4863A3\n",
      "Mfg - Dental Products 2510 Conway Avenue St. Paul, MN 55144-1000 USA\n",
      "Product Name - Filtek\"M Bulk Fill\n",
      "High Temp (F) - 80OF\n"
     ]
    }
   ],
   "source": [
    "#Recognize text fields from custom model\n",
    "poller = form_recognizer_client.begin_recognize_custom_forms_from_url(\n",
    "    model_id=model_id, form_url=formUri)\n",
    "result = poller.result()\n",
    "\n",
    "#Print detected fields\n",
    "for recognized_form in result:\n",
    "    print(\"Form type: {}\".format(recognized_form.form_type))\n",
    "    print()\n",
    "    for name, field in recognized_form.fields.items():\n",
    "        print(\"{} - {}\".format(field.label_data.text if field.label_data else name,\n",
    "            field.value))"
   ]
  }
 ],
 "metadata": {
  "kernelspec": {
   "display_name": "Python 3",
   "language": "python",
   "name": "python3"
  },
  "language_info": {
   "codemirror_mode": {
    "name": "ipython",
    "version": 3
   },
   "file_extension": ".py",
   "mimetype": "text/x-python",
   "name": "python",
   "nbconvert_exporter": "python",
   "pygments_lexer": "ipython3",
   "version": "3.7.7"
  }
 },
 "nbformat": 4,
 "nbformat_minor": 4
}
